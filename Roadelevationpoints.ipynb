{
 "cells": [
  {
   "cell_type": "code",
   "execution_count": 1,
   "metadata": {},
   "outputs": [],
   "source": [
    "# Get libraries\n",
    "import pandas as pd\n",
    "import arcpy\n",
    "import arcgis\n",
    "import os\n",
    "from arcgis.features import GeoAccessor, GeoSeriesAccessor\n",
    "\n"
   ]
  },
  {
   "cell_type": "code",
   "execution_count": 2,
   "metadata": {
    "scrolled": true
   },
   "outputs": [],
   "source": [
    "#road featureclass clipped to AOI extent of the elevation below\n",
    "originalroad = r\"C:\\Stories\\roadelevationvertices\\SampleRoads.gdb\\Street_Centerlines_clip\"\n",
    "    \n",
    "    \n",
    "#originalroad = arcpy.GetParameterAsText(1)\n",
    "#if arcpy.Exists(originalroad):\n",
    "#    print(\"Using road input\")\n",
    "#else: \n",
    "#    originalroad = r\"C:\\Stories\\glareanalysis\\glare1\\SampleRoads.gdb\\Street_Centerlines_small\"\n",
    "#    print(\"Using test road input\")   \n",
    "\n",
    "#elevation local raster exported from the living atlas Terrain elevation service\n",
    "terrain = r\"C:\\Stories\\roadelevationvertices\\elevation2.tif\"\n",
    "\n",
    "#terrain = arcpy.GetParameterAsText(2)    \n",
    "#if arcpy.Exists(terrain):\n",
    "#    print(\"Using terrain input\")\n",
    "#else: \n",
    "#    terrain = r\"C:\\Stories\\glareanalysis\\glare1\\Terrain2m_fallschurch.tif\"\n",
    "#    print(\"Using test terrain input\")  \n",
    "\n",
    "\n",
    "# USER INPUTS - Road Featureclass and terrain inputs\n",
    "\n",
    "# USER INPUTS - ALL PASTED TO TOP existing inputs\n",
    "#originalroad = r\"C:\\Stories\\glareanalysis\\glare1\\SampleRoads.gdb\\Street_Centerlines_small\"\n",
    "#terrain = r\"C:\\Stories\\glareanalysis\\glare1\\Terrain2m_fallschurch.tif\"\n",
    "\n",
    "#workspace fgdb to place results\n",
    "arcpy.env.workspace = r\"C:\\Stories\\roadelevationvertices\\roadvertices4.gdb\"\n",
    "\n",
    "######\n",
    "\n",
    "\n",
    "# End User inputs\n",
    "\n",
    "########\n"
   ]
  },
  {
   "cell_type": "code",
   "execution_count": 3,
   "metadata": {
    "scrolled": true
   },
   "outputs": [
    {
     "data": {
      "text/plain": [
       "'C:\\\\Stories\\\\roadelevationvertices\\\\SampleRoads.gdb\\\\Street_Centerlines_clip'"
      ]
     },
     "execution_count": 3,
     "metadata": {},
     "output_type": "execute_result"
    }
   ],
   "source": [
    "originalroad"
   ]
  },
  {
   "cell_type": "code",
   "execution_count": 4,
   "metadata": {},
   "outputs": [
    {
     "name": "stdout",
     "output_type": "stream",
     "text": [
      "Creating road segment table ...\n"
     ]
    }
   ],
   "source": [
    "\n",
    "# PART -This takes the raw roads and then adds the vertices and then \n",
    "#         creates the 3d segments with bearing and length attributes\n",
    "\n",
    "\n",
    "print (r\"Creating road segment table ...\")"
   ]
  },
  {
   "cell_type": "code",
   "execution_count": 5,
   "metadata": {},
   "outputs": [],
   "source": [
    "# USER INPUTS - ALL PASTED TO TOP existing inputs\n",
    "#originalroad = r\"C:\\Stories\\glareanalysis\\glare1\\SampleRoads.gdb\\Street_Centerlines_small\"\n",
    "#terrain = r\"C:\\Stories\\glareanalysis\\glare1\\Terrain2m_fallschurch.tif\"\n",
    "#arcpy.env.workspace = r\"C:\\Stories\\glareanalysis\\glare1\\glare1.gdb\"\n",
    "\n",
    "# Set more environment settings\n",
    "arcpy.env.outputCoordinateSystem = arcpy.Describe(terrain).spatialReference\n",
    "\n",
    "#scratch featureclass files that are created on the fly\n",
    "inputroad = \"inputroad\"\n",
    "vertices2d = \"vertices2d\"\n",
    "vertices3d = \"vertices3d\"\n",
    "simpleline3d = \"simpleline3d\"\n",
    "segments3d = \"segments3d\""
   ]
  },
  {
   "cell_type": "code",
   "execution_count": 6,
   "metadata": {},
   "outputs": [
    {
     "data": {
      "text/plain": [
       "<Result 'C:\\\\Stories\\\\roadelevationvertices\\\\roadvertices4.gdb\\\\inputroad'>"
      ]
     },
     "execution_count": 6,
     "metadata": {},
     "output_type": "execute_result"
    }
   ],
   "source": [
    "# make a working copy from original\n",
    "arcpy.management.CopyFeatures(originalroad, inputroad)\n"
   ]
  },
  {
   "cell_type": "code",
   "execution_count": 7,
   "metadata": {},
   "outputs": [
    {
     "data": {
      "text/plain": [
       "<Result 'C:\\\\Stories\\\\roadelevationvertices\\\\roadvertices4.gdb\\\\inputroad'>"
      ]
     },
     "execution_count": 7,
     "metadata": {},
     "output_type": "execute_result"
    }
   ],
   "source": [
    "#add a field to preserve the objectid as a field\n",
    "arcpy.management.AddField(inputroad, \"RoadID\", \"LONG\")\n",
    "arcpy.management.CalculateField(inputroad, \"RoadID\", \"!OBJECTID!\", \"PYTHON3\")\n"
   ]
  },
  {
   "cell_type": "code",
   "execution_count": 8,
   "metadata": {},
   "outputs": [
    {
     "data": {
      "text/plain": [
       "<Result 'C:\\\\Stories\\\\roadelevationvertices\\\\roadvertices4.gdb\\\\inputroad'>"
      ]
     },
     "execution_count": 8,
     "metadata": {},
     "output_type": "execute_result"
    }
   ],
   "source": [
    "\n",
    "# generalize to remove most vertices\n",
    "arcpy.edit.Generalize(inputroad, \"5 Meters\")\n"
   ]
  },
  {
   "cell_type": "code",
   "execution_count": 10,
   "metadata": {},
   "outputs": [
    {
     "data": {
      "text/plain": [
       "<Result 'C:\\\\Stories\\\\roadelevationvertices\\\\roadvertices4.gdb\\\\inputroad'>"
      ]
     },
     "execution_count": 10,
     "metadata": {},
     "output_type": "execute_result"
    }
   ],
   "source": [
    "\n",
    "\n",
    "#insert vertices every 100m\n",
    "#arcpy.edit.Densify(inputroad, \"DISTANCE\", \"100 Meters\", \"0.33 Feet\", 10)\n",
    "arcpy.edit.Densify(inputroad, \"DISTANCE\", \"100 Meters\")"
   ]
  },
  {
   "cell_type": "code",
   "execution_count": 11,
   "metadata": {},
   "outputs": [
    {
     "data": {
      "text/plain": [
       "<Result 'C:\\\\Stories\\\\roadelevationvertices\\\\roadvertices4.gdb\\\\vertices2d'>"
      ]
     },
     "execution_count": 11,
     "metadata": {},
     "output_type": "execute_result"
    }
   ],
   "source": [
    "#make vertices\n",
    "arcpy.management.FeatureVerticesToPoints(inputroad, vertices2d, \"ALL\")"
   ]
  },
  {
   "cell_type": "code",
   "execution_count": 12,
   "metadata": {},
   "outputs": [
    {
     "data": {
      "text/plain": [
       "<Result 'C:\\\\Stories\\\\roadelevationvertices\\\\roadvertices4.gdb\\\\vertices3d'>"
      ]
     },
     "execution_count": 12,
     "metadata": {},
     "output_type": "execute_result"
    }
   ],
   "source": [
    "#get the elevation of every vertice\n",
    "arcpy.ddd.InterpolateShape(terrain, vertices2d, vertices3d, None, 1, \"BILINEAR\", \"DENSIFY\", 0, \"EXCLUDE\")\n",
    "\n"
   ]
  },
  {
   "cell_type": "code",
   "execution_count": 13,
   "metadata": {},
   "outputs": [
    {
     "ename": "AttributeError",
     "evalue": "'ToolValidator' object has no attribute 'isLicensed'",
     "output_type": "error",
     "traceback": [
      "\u001b[1;31m---------------------------------------------------------------------------\u001b[0m",
      "\u001b[1;31mAttributeError\u001b[0m                            Traceback (most recent call last)",
      "\u001b[1;32mc:\\program files\\arcgis\\pro\\Resources\\ArcToolbox\\toolboxes\\Data Management Tools.tbx#AddGeometryAttributes_management.InitializeParameters.py\u001b[0m in \u001b[0;36m<module>\u001b[1;34m\u001b[0m\n",
      "\u001b[1;31mAttributeError\u001b[0m: 'ToolValidator' object has no attribute 'isLicensed'"
     ]
    },
    {
     "ename": "AttributeError",
     "evalue": "'ToolValidator' object has no attribute 'isLicensed'",
     "output_type": "error",
     "traceback": [
      "\u001b[1;31m---------------------------------------------------------------------------\u001b[0m",
      "\u001b[1;31mAttributeError\u001b[0m                            Traceback (most recent call last)",
      "\u001b[1;32mc:\\program files\\arcgis\\pro\\Resources\\ArcToolbox\\toolboxes\\Data Management Tools.tbx#AddGeometryAttributes_management.InitializeParameters.py\u001b[0m in \u001b[0;36m<module>\u001b[1;34m\u001b[0m\n",
      "\u001b[1;31mAttributeError\u001b[0m: 'ToolValidator' object has no attribute 'isLicensed'"
     ]
    },
    {
     "data": {
      "text/plain": [
       "<Result 'C:\\\\Stories\\\\roadelevationvertices\\\\roadvertices4.gdb\\\\vertices3d'>"
      ]
     },
     "execution_count": 13,
     "metadata": {},
     "output_type": "execute_result"
    }
   ],
   "source": [
    "#add GIS attributes to the vertices\n",
    "arcpy.management.AddGeometryAttributes(vertices3d, \"POINT_X_Y_Z_M\")\n",
    "\n",
    "#NOTE THIS PRINTS OUT A AttributeError: 'ToolValidator' object has no attribute 'isLicensed'\n",
    "\n",
    "# AT 2.4 ( an new bug) which is bug, but the script still works. JUst continue\n",
    "\n"
   ]
  },
  {
   "cell_type": "code",
   "execution_count": 14,
   "metadata": {},
   "outputs": [
    {
     "ename": "AttributeError",
     "evalue": "'ToolValidator' object has no attribute 'isLicensed'",
     "output_type": "error",
     "traceback": [
      "\u001b[1;31m---------------------------------------------------------------------------\u001b[0m",
      "\u001b[1;31mAttributeError\u001b[0m                            Traceback (most recent call last)",
      "\u001b[1;32mc:\\program files\\arcgis\\pro\\Resources\\ArcToolbox\\toolboxes\\Data Management Tools.tbx#PointsToLine_management.InitializeParameters.py\u001b[0m in \u001b[0;36m<module>\u001b[1;34m\u001b[0m\n",
      "\u001b[1;31mAttributeError\u001b[0m: 'ToolValidator' object has no attribute 'isLicensed'"
     ]
    },
    {
     "ename": "AttributeError",
     "evalue": "'ToolValidator' object has no attribute 'isLicensed'",
     "output_type": "error",
     "traceback": [
      "\u001b[1;31m---------------------------------------------------------------------------\u001b[0m",
      "\u001b[1;31mAttributeError\u001b[0m                            Traceback (most recent call last)",
      "\u001b[1;32mc:\\program files\\arcgis\\pro\\Resources\\ArcToolbox\\toolboxes\\Data Management Tools.tbx#PointsToLine_management.InitializeParameters.py\u001b[0m in \u001b[0;36m<module>\u001b[1;34m\u001b[0m\n",
      "\u001b[1;31mAttributeError\u001b[0m: 'ToolValidator' object has no attribute 'isLicensed'"
     ]
    },
    {
     "data": {
      "text/plain": [
       "<Result 'C:\\\\Stories\\\\roadelevationvertices\\\\roadvertices4.gdb\\\\simpleline3d'>"
      ]
     },
     "execution_count": 14,
     "metadata": {},
     "output_type": "execute_result"
    }
   ],
   "source": [
    "# the rest of the script is optional and only if you need lines that are now 3D\n",
    "\n",
    "\n",
    "#then create 3d roads from 3d vertices\n",
    "arcpy.management.PointsToLine(vertices3d, simpleline3d, \"RoadID\", None, \"NO_CLOSE\")\n",
    "\n",
    "\n",
    "#NOTE THIS PRINTS OUT A AttributeError: 'ToolValidator' object has no attribute 'isLicensed'\n",
    "\n",
    "# AT 2.4 ( an new bug) which is bug, but the script still works. JUst continue\n",
    "\n"
   ]
  },
  {
   "cell_type": "code",
   "execution_count": 15,
   "metadata": {},
   "outputs": [
    {
     "data": {
      "text/plain": [
       "<Result 'C:\\\\Stories\\\\roadelevationvertices\\\\roadvertices4.gdb\\\\segments3d'>"
      ]
     },
     "execution_count": 15,
     "metadata": {},
     "output_type": "execute_result"
    }
   ],
   "source": [
    "#create short 3d segments from 3d roads\n",
    "arcpy.management.SplitLine(simpleline3d, segments3d)\n",
    "\n"
   ]
  },
  {
   "cell_type": "code",
   "execution_count": 16,
   "metadata": {},
   "outputs": [
    {
     "ename": "AttributeError",
     "evalue": "'ToolValidator' object has no attribute 'isLicensed'",
     "output_type": "error",
     "traceback": [
      "\u001b[1;31m---------------------------------------------------------------------------\u001b[0m",
      "\u001b[1;31mAttributeError\u001b[0m                            Traceback (most recent call last)",
      "\u001b[1;32mc:\\program files\\arcgis\\pro\\Resources\\ArcToolbox\\toolboxes\\Data Management Tools.tbx#AddGeometryAttributes_management.InitializeParameters.py\u001b[0m in \u001b[0;36m<module>\u001b[1;34m\u001b[0m\n",
      "\u001b[1;31mAttributeError\u001b[0m: 'ToolValidator' object has no attribute 'isLicensed'"
     ]
    },
    {
     "ename": "AttributeError",
     "evalue": "'ToolValidator' object has no attribute 'isLicensed'",
     "output_type": "error",
     "traceback": [
      "\u001b[1;31m---------------------------------------------------------------------------\u001b[0m",
      "\u001b[1;31mAttributeError\u001b[0m                            Traceback (most recent call last)",
      "\u001b[1;32mc:\\program files\\arcgis\\pro\\Resources\\ArcToolbox\\toolboxes\\Data Management Tools.tbx#AddGeometryAttributes_management.InitializeParameters.py\u001b[0m in \u001b[0;36m<module>\u001b[1;34m\u001b[0m\n",
      "\u001b[1;31mAttributeError\u001b[0m: 'ToolValidator' object has no attribute 'isLicensed'"
     ]
    },
    {
     "data": {
      "text/plain": [
       "<Result 'C:\\\\Stories\\\\roadelevationvertices\\\\roadvertices4.gdb\\\\segments3d'>"
      ]
     },
     "execution_count": 16,
     "metadata": {},
     "output_type": "execute_result"
    }
   ],
   "source": [
    "\n",
    "#add GIS attributes to the lines (optional)\n",
    "arcpy.management.AddGeometryAttributes(segments3d, \"LENGTH_GEODESIC;LINE_BEARING;LINE_START_MID_END\", \"METERS\")\n",
    "\n",
    "#NOTE THIS PRINTS OUT A AttributeError: 'ToolValidator' object has no attribute 'isLicensed'\n",
    "\n",
    "# AT 2.4 ( an new bug) which is bug, but the script still works. JUst continue\n",
    "\n"
   ]
  },
  {
   "cell_type": "code",
   "execution_count": 17,
   "metadata": {},
   "outputs": [
    {
     "name": "stdout",
     "output_type": "stream",
     "text": [
      "... creating road table ok.\n"
     ]
    }
   ],
   "source": [
    "print (r\"... creating road table ok.\")\n",
    "\n",
    "\n",
    "#  END CREATE RD SEGMENTS WITH ATTRIBUTES\n",
    "\n",
    "\n",
    "\n",
    "\n"
   ]
  },
  {
   "cell_type": "code",
   "execution_count": null,
   "metadata": {},
   "outputs": [],
   "source": []
  }
 ],
 "metadata": {
  "kernelspec": {
   "display_name": "Python 3",
   "language": "python",
   "name": "python3"
  },
  "language_info": {
   "codemirror_mode": {
    "name": "ipython",
    "version": 3
   },
   "file_extension": ".py",
   "mimetype": "text/x-python",
   "name": "python",
   "nbconvert_exporter": "python",
   "pygments_lexer": "ipython3",
   "version": "3.6.8"
  }
 },
 "nbformat": 4,
 "nbformat_minor": 2
}
